{
 "cells": [
  {
   "cell_type": "markdown",
   "metadata": {},
   "source": [
    "## **Turi Recommender**\n",
    "\n",
    "Welcome to the recommendation engine model quickstart on Skafos! The purpose of this notebook is to get you going end-to-end. Below we will do the following:\n",
    "\n",
    "1. Load movie ratings data.\n",
    "2. Build a recommendation engine model.\n",
    "3. Convert the model to CoreML format and save it to the Skafos framework.\n",
    "\n",
    "The example is based on [Turi Create's Recommendation Engine](https://apple.github.io/turicreate/docs/userguide/recommender).\n",
    "\n",
    "---\n",
    "\n",
    "Execute each cell one-by-one, by selecting the cell and do one of the following:\n",
    "\n",
    "-  Clicking the \"play\" button at the top of this frame.\n",
    "-  Typing 'Control + Enter' or 'Shift + Enter'."
   ]
  },
  {
   "cell_type": "code",
   "execution_count": null,
   "metadata": {},
   "outputs": [],
   "source": [
    "# Import necessary libraries\n",
    "from skafossdk import *\n",
    "\n",
    "import utilities.save_models as sm\n",
    "from utilities.load_turicreate import *"
   ]
  },
  {
   "cell_type": "code",
   "execution_count": null,
   "metadata": {},
   "outputs": [],
   "source": [
    "tc = install_turicreate(timeout=500, retries=2) # check to make sure turicreate is installed\n",
    "ska = Skafos() # initialize Skafos"
   ]
  },
  {
   "cell_type": "markdown",
   "metadata": {},
   "source": [
    "### 1. **Load the data**\n",
    "\n",
    "The training data for this example are movies (items) and ratings by users on those movies (actions). First, we fetch training data from an AWS S3 bucket. Then, we downsample the original data, keeping only 20% of the users for modeleing (This is done to simplify the model and minimuze time and space required. After downsampling, the remaining sampled data is randomly split into train and test sets, where 80% of the data is used for training, and 20% is used for model evaluation.\n"
   ]
  },
  {
   "cell_type": "code",
   "execution_count": null,
   "metadata": {},
   "outputs": [],
   "source": [
    "# Load data from S3 bucket\n",
    "actions = tc.SFrame.read_csv(\n",
    "    url='https://s3.amazonaws.com/skafos.example.data/MovieLensDataset/ml-20m/ratings.csv',\n",
    "    verbose=False\n",
    ")\n",
    "\n",
    "items = tc.SFrame.read_csv(\n",
    "    url='https://s3.amazonaws.com/skafos.example.data/MovieLensDataset/ml-20m/movies.csv',\n",
    "    verbose=False\n",
    ")"
   ]
  },
  {
   "cell_type": "code",
   "execution_count": null,
   "metadata": {},
   "outputs": [],
   "source": [
    "# Sample ~20% of the user ids to make our data smaller for this example\n",
    "sample_user_ids = actions['userId'].unique().sample(.2)\n",
    "\n",
    "# Filter the dataframe\n",
    "actions = actions[actions['userId'].is_in(sample_user_ids)][['userId', 'movieId']]"
   ]
  },
  {
   "cell_type": "code",
   "execution_count": null,
   "metadata": {},
   "outputs": [],
   "source": [
    "# Make a train-test split - this may take a couple minutes\n",
    "train_data, test_data = tc.recommender.util.random_split_by_user(\n",
    "    dataset=actions,\n",
    "    user_id='userId',\n",
    "    item_id='movieId',\n",
    ")"
   ]
  },
  {
   "cell_type": "code",
   "execution_count": null,
   "metadata": {},
   "outputs": [],
   "source": [
    "# Take a look at the data\n",
    "train_data.head()"
   ]
  },
  {
   "cell_type": "markdown",
   "metadata": {},
   "source": [
    "### 2. **Build the model**\n",
    "We use the `tc.recommender.create` function (default) and specify the data, user id, and item id to properly train the model. To understand more about this specific function, check out the [Turi Create Documentation](https://apple.github.io/turicreate/docs/userguide/recommender/).\n",
    "\n",
    "The model in this example is an implicit recommendation engine that trains on interaction data **without** explicit ratings or sentiment information. To see an example of an explicit recommendation engine, check out the `advanced_usage/` section."
   ]
  },
  {
   "cell_type": "code",
   "execution_count": null,
   "metadata": {},
   "outputs": [],
   "source": [
    "# Train the default recommender\n",
    "model = tc.recommender.create(\n",
    "    observation_data=train_data,\n",
    "    user_id='userId',\n",
    "    item_id='movieId'\n",
    ")"
   ]
  },
  {
   "cell_type": "code",
   "execution_count": null,
   "metadata": {},
   "outputs": [],
   "source": [
    "# Make a recommendation to a known user within the test set\n",
    "# k ~ is the number of recommendations to generate\n",
    "model.recommend(\n",
    "    users=[test_data['userId'][0]],\n",
    "    k=5\n",
    ")"
   ]
  },
  {
   "cell_type": "code",
   "execution_count": null,
   "metadata": {},
   "outputs": [],
   "source": [
    "# Make a recommendation to a new (unknown) user - returns most popular movies\n",
    "model.recommend(\n",
    "    users=[9999999999],\n",
    "    k=5\n",
    ")"
   ]
  },
  {
   "cell_type": "markdown",
   "metadata": {},
   "source": [
    "### 3. **Save the model**\n",
    "Once your model has been created, it must be saved to the Skafos framework via the code below. This will trigger a push to your mobile app."
   ]
  },
  {
   "cell_type": "code",
   "execution_count": null,
   "metadata": {},
   "outputs": [],
   "source": [
    "# Export to coreml\n",
    "coreml_model_name = \"Recommender.mlmodel\"\n",
    "res = model.export_coreml(coreml_model_name)\n",
    "\n",
    "# Compress the model\n",
    "compressed_model = sm.compress_model(coreml_model_name)\n",
    "\n",
    "# Save to Skafos\n",
    "sm.skafos_save_model(\n",
    "    skafos=ska,\n",
    "    model_name=coreml_model_name,\n",
    "    compressed_model=compressed_model,\n",
    "    permissions='public'\n",
    ")"
   ]
  }
 ],
 "metadata": {
  "kernelspec": {
   "display_name": "Python 3",
   "language": "python",
   "name": "python3"
  },
  "language_info": {
   "codemirror_mode": {
    "name": "ipython",
    "version": 3
   },
   "file_extension": ".py",
   "mimetype": "text/x-python",
   "name": "python",
   "nbconvert_exporter": "python",
   "pygments_lexer": "ipython3",
   "version": "3.6.5"
  }
 },
 "nbformat": 4,
 "nbformat_minor": 2
}
