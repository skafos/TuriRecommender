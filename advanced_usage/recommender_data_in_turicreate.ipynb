{
 "cells": [
  {
   "cell_type": "markdown",
   "metadata": {},
   "source": [
    "## **Book Recommendation Engine Example**"
   ]
  },
  {
   "cell_type": "markdown",
   "metadata": {},
   "source": [
    "In this example, instead of using movie data, we use book ratings. At its core, it is the same problem. However, in this example we will include user ratings of books in the training of the recommendation model. This increases train-time as it creates a more complex model that tends to be more accurate."
   ]
  },
  {
   "cell_type": "code",
   "execution_count": null,
   "metadata": {},
   "outputs": [],
   "source": [
    "# Import necessary libraries\n",
    "import turicreate as tc\n",
    "from skafossdk import *"
   ]
  },
  {
   "cell_type": "code",
   "execution_count": null,
   "metadata": {},
   "outputs": [],
   "source": [
    "ska = Skafos() # initialize Skafos"
   ]
  },
  {
   "cell_type": "markdown",
   "metadata": {},
   "source": [
    "## **Load the data** \n",
    "We stored the data used for this example in a public S3 bucket. However, you can find the raw data [here](http://www2.informatik.uni-freiburg.de/~cziegler/BX/)."
   ]
  },
  {
   "cell_type": "code",
   "execution_count": null,
   "metadata": {},
   "outputs": [],
   "source": [
    "# Load the data from S3 bucket\n",
    "s3_path = 'skafos.example.data/Recommender/BX-Book-Ratings.csv'\n",
    "\n",
    "# Convert to SFrame\n",
    "data = tc.SFrame.read_csv(\n",
    "    url='https://s3.amazonaws.com/' + s3_path,\n",
    "    delimiter=';',\n",
    "    error_bad_lines=False,\n",
    "    verbose=False\n",
    ")"
   ]
  },
  {
   "cell_type": "code",
   "execution_count": null,
   "metadata": {},
   "outputs": [],
   "source": [
    "# split the training and validation sets up\n",
    "train_data, test_data = tc.recommender.util.random_split_by_user(\n",
    "    dataset=data,\n",
    "    user_id='User-ID',\n",
    "    item_id='ISBN'\n",
    ")"
   ]
  },
  {
   "cell_type": "code",
   "execution_count": null,
   "metadata": {},
   "outputs": [],
   "source": [
    "# Take a look at the training data (notice the ratings this time)\n",
    "train_data.head(5)"
   ]
  },
  {
   "cell_type": "markdown",
   "metadata": {},
   "source": [
    "## **Train the model**\n",
    "Here we build the model. Note how this example differs from the pre-baked Turi Create example in that we specify a target. This makes the model an explicit recommendation engine and means it will likely use a ranking factorixation algorithm which is more powerful. For more information about this, checkout the [Turi Create documentation](https://turi.com/learn/userguide/recommender/choosing-a-model.html)"
   ]
  },
  {
   "cell_type": "code",
   "execution_count": null,
   "metadata": {},
   "outputs": [],
   "source": [
    "# Train the recommender - note the target variable that makes this an explicit recommender\n",
    "model = tc.recommender.create(\n",
    "    observation_data=train_data,\n",
    "    user_id='User-ID',\n",
    "    item_id='ISBN',\n",
    "    target='Book-Rating'\n",
    ")"
   ]
  },
  {
   "cell_type": "markdown",
   "metadata": {},
   "source": [
    "## **Model Evaluation**"
   ]
  },
  {
   "cell_type": "code",
   "execution_count": null,
   "metadata": {},
   "outputs": [],
   "source": [
    "# Calculate the average prediction error for each user-item pair in the test set\n",
    "## The RMSE represents the error between a users actual rating of a book and the model's prediction\n",
    "## Lower RMSE is best\n",
    "results = model.evaluate_rmse(\n",
    "    dataset=test_data,\n",
    "    target='Book-Rating'\n",
    ")"
   ]
  },
  {
   "cell_type": "code",
   "execution_count": null,
   "metadata": {},
   "outputs": [],
   "source": [
    "# RMSE per user, sorted from lowest to highest (best to worst)\n",
    "results['rmse_by_user'].sort(key_column_names='rmse')"
   ]
  },
  {
   "cell_type": "code",
   "execution_count": null,
   "metadata": {},
   "outputs": [],
   "source": [
    "# Average error overall\n",
    "results['rmse_overall']"
   ]
  }
 ],
 "metadata": {
  "kernelspec": {
   "display_name": "Python 3",
   "language": "python",
   "name": "python3"
  },
  "language_info": {
   "codemirror_mode": {
    "name": "ipython",
    "version": 3
   },
   "file_extension": ".py",
   "mimetype": "text/x-python",
   "name": "python",
   "nbconvert_exporter": "python",
   "pygments_lexer": "ipython3",
   "version": "3.6.5"
  }
 },
 "nbformat": 4,
 "nbformat_minor": 2
}
