{
 "cells": [
  {
   "cell_type": "markdown",
   "metadata": {},
   "source": [
    "## **Book Recommendation with a Target**"
   ]
  },
  {
   "cell_type": "markdown",
   "metadata": {},
   "source": [
    "In this example, instead of using movie data, we use book ratings. This is essentially the same problem but the reason we use this example is because we will add a target to the recommender engine. This increases run-time as it creates a more complex model. "
   ]
  },
  {
   "cell_type": "code",
   "execution_count": 1,
   "metadata": {},
   "outputs": [
    {
     "name": "stderr",
     "output_type": "stream",
     "text": [
      "/opt/conda/lib/python3.6/site-packages/aenum/__init__.py:163: DeprecationWarning: inspect.getargspec() is deprecated, use inspect.signature() or inspect.getfullargspec()\n",
      "  args, varargs, keywords, defaults = inspect.getargspec(method)\n"
     ]
    }
   ],
   "source": [
    "import pandas as pd\n",
    "import turicreate as tc\n",
    "from skafossdk import *\n",
    "from s3fs.core import S3FileSystem"
   ]
  },
  {
   "cell_type": "code",
   "execution_count": 2,
   "metadata": {},
   "outputs": [
    {
     "name": "stdout",
     "output_type": "stream",
     "text": [
      "2018-11-26 16:15:40,919 - skafossdk.data_engine - INFO - Connecting to DataEngine\n",
      "2018-11-26 16:15:40,952 - skafossdk.data_engine - INFO - DataEngine Connection Opened\n"
     ]
    }
   ],
   "source": [
    "ska = Skafos() # set up Skafos"
   ]
  },
  {
   "cell_type": "markdown",
   "metadata": {},
   "source": [
    "## **Get the Data** \n",
    "We have uploaded the data to a public S3 pucket but the original data can be found [here](http://www2.informatik.uni-freiburg.de/~cziegler/BX/)"
   ]
  },
  {
   "cell_type": "code",
   "execution_count": 3,
   "metadata": {},
   "outputs": [],
   "source": [
    "s3 = S3FileSystem(anon=True)\n",
    "file = s3.open(\"s3://skafos.example.data/BX-Book-Ratings.csv\", \"r\", encoding = 'latin1', errors='replace')"
   ]
  },
  {
   "cell_type": "code",
   "execution_count": 4,
   "metadata": {},
   "outputs": [],
   "source": [
    "data = pd.read_csv(file, sep =\";\", error_bad_lines=False)"
   ]
  },
  {
   "cell_type": "code",
   "execution_count": 5,
   "metadata": {},
   "outputs": [
    {
     "data": {
      "text/html": [
       "<div>\n",
       "<style scoped>\n",
       "    .dataframe tbody tr th:only-of-type {\n",
       "        vertical-align: middle;\n",
       "    }\n",
       "\n",
       "    .dataframe tbody tr th {\n",
       "        vertical-align: top;\n",
       "    }\n",
       "\n",
       "    .dataframe thead th {\n",
       "        text-align: right;\n",
       "    }\n",
       "</style>\n",
       "<table border=\"1\" class=\"dataframe\">\n",
       "  <thead>\n",
       "    <tr style=\"text-align: right;\">\n",
       "      <th></th>\n",
       "      <th>User-ID</th>\n",
       "      <th>ISBN</th>\n",
       "      <th>Book-Rating</th>\n",
       "    </tr>\n",
       "  </thead>\n",
       "  <tbody>\n",
       "    <tr>\n",
       "      <th>0</th>\n",
       "      <td>276725</td>\n",
       "      <td>034545104X</td>\n",
       "      <td>0</td>\n",
       "    </tr>\n",
       "    <tr>\n",
       "      <th>1</th>\n",
       "      <td>276726</td>\n",
       "      <td>0155061224</td>\n",
       "      <td>5</td>\n",
       "    </tr>\n",
       "    <tr>\n",
       "      <th>2</th>\n",
       "      <td>276727</td>\n",
       "      <td>0446520802</td>\n",
       "      <td>0</td>\n",
       "    </tr>\n",
       "    <tr>\n",
       "      <th>3</th>\n",
       "      <td>276729</td>\n",
       "      <td>052165615X</td>\n",
       "      <td>3</td>\n",
       "    </tr>\n",
       "    <tr>\n",
       "      <th>4</th>\n",
       "      <td>276729</td>\n",
       "      <td>0521795028</td>\n",
       "      <td>6</td>\n",
       "    </tr>\n",
       "  </tbody>\n",
       "</table>\n",
       "</div>"
      ],
      "text/plain": [
       "   User-ID        ISBN  Book-Rating\n",
       "0   276725  034545104X            0\n",
       "1   276726  0155061224            5\n",
       "2   276727  0446520802            0\n",
       "3   276729  052165615X            3\n",
       "4   276729  0521795028            6"
      ]
     },
     "execution_count": 5,
     "metadata": {},
     "output_type": "execute_result"
    }
   ],
   "source": [
    "data.head()"
   ]
  },
  {
   "cell_type": "markdown",
   "metadata": {},
   "source": [
    "## **Prep the data**\n",
    "We convert the book-rating column to an integer value, convert the data to an SFrame (Turi Create's dataframe data structure) and split the training and validation data."
   ]
  },
  {
   "cell_type": "code",
   "execution_count": 6,
   "metadata": {},
   "outputs": [],
   "source": [
    "# convert the book rating column to an integer\n",
    "data['Book-Rating'] = data['Book-Rating'].astype(int)"
   ]
  },
  {
   "cell_type": "code",
   "execution_count": 7,
   "metadata": {},
   "outputs": [],
   "source": [
    "# convert to an SFrame\n",
    "data = tc.SFrame(data)"
   ]
  },
  {
   "cell_type": "code",
   "execution_count": 8,
   "metadata": {},
   "outputs": [],
   "source": [
    "# split the training and validation sets up\n",
    "training_data, validation_data = tc.recommender.util.random_split_by_user(data, 'User-ID', 'ISBN')"
   ]
  },
  {
   "cell_type": "markdown",
   "metadata": {},
   "source": [
    "## **Build the model**\n",
    "Here we build the model. Note how this example differs from the pre-baked Turi Create example in that we specify a target. For more information about this, checkout the [Turi Create documentation](https://turi.com/learn/userguide/recommender/choosing-a-model.html)"
   ]
  },
  {
   "cell_type": "code",
   "execution_count": 9,
   "metadata": {},
   "outputs": [
    {
     "data": {
      "text/html": [
       "<pre>Recsys training: model = ranking_factorization_recommender</pre>"
      ],
      "text/plain": [
       "Recsys training: model = ranking_factorization_recommender"
      ]
     },
     "metadata": {},
     "output_type": "display_data"
    },
    {
     "data": {
      "text/html": [
       "<pre>Preparing data set.</pre>"
      ],
      "text/plain": [
       "Preparing data set."
      ]
     },
     "metadata": {},
     "output_type": "display_data"
    },
    {
     "data": {
      "text/html": [
       "<pre>    Data has 1147266 observations with 105171 users and 340163 items.</pre>"
      ],
      "text/plain": [
       "    Data has 1147266 observations with 105171 users and 340163 items."
      ]
     },
     "metadata": {},
     "output_type": "display_data"
    },
    {
     "data": {
      "text/html": [
       "<pre>    Data prepared in: 3.35678s</pre>"
      ],
      "text/plain": [
       "    Data prepared in: 3.35678s"
      ]
     },
     "metadata": {},
     "output_type": "display_data"
    },
    {
     "data": {
      "text/html": [
       "<pre>Training ranking_factorization_recommender for recommendations.</pre>"
      ],
      "text/plain": [
       "Training ranking_factorization_recommender for recommendations."
      ]
     },
     "metadata": {},
     "output_type": "display_data"
    },
    {
     "data": {
      "text/html": [
       "<pre>+--------------------------------+--------------------------------------------------+----------+</pre>"
      ],
      "text/plain": [
       "+--------------------------------+--------------------------------------------------+----------+"
      ]
     },
     "metadata": {},
     "output_type": "display_data"
    },
    {
     "data": {
      "text/html": [
       "<pre>| Parameter                      | Description                                      | Value    |</pre>"
      ],
      "text/plain": [
       "| Parameter                      | Description                                      | Value    |"
      ]
     },
     "metadata": {},
     "output_type": "display_data"
    },
    {
     "data": {
      "text/html": [
       "<pre>+--------------------------------+--------------------------------------------------+----------+</pre>"
      ],
      "text/plain": [
       "+--------------------------------+--------------------------------------------------+----------+"
      ]
     },
     "metadata": {},
     "output_type": "display_data"
    },
    {
     "data": {
      "text/html": [
       "<pre>| num_factors                    | Factor Dimension                                 | 32       |</pre>"
      ],
      "text/plain": [
       "| num_factors                    | Factor Dimension                                 | 32       |"
      ]
     },
     "metadata": {},
     "output_type": "display_data"
    },
    {
     "data": {
      "text/html": [
       "<pre>| regularization                 | L2 Regularization on Factors                     | 1e-09    |</pre>"
      ],
      "text/plain": [
       "| regularization                 | L2 Regularization on Factors                     | 1e-09    |"
      ]
     },
     "metadata": {},
     "output_type": "display_data"
    },
    {
     "data": {
      "text/html": [
       "<pre>| solver                         | Solver used for training                         | sgd      |</pre>"
      ],
      "text/plain": [
       "| solver                         | Solver used for training                         | sgd      |"
      ]
     },
     "metadata": {},
     "output_type": "display_data"
    },
    {
     "data": {
      "text/html": [
       "<pre>| linear_regularization          | L2 Regularization on Linear Coefficients         | 1e-09    |</pre>"
      ],
      "text/plain": [
       "| linear_regularization          | L2 Regularization on Linear Coefficients         | 1e-09    |"
      ]
     },
     "metadata": {},
     "output_type": "display_data"
    },
    {
     "data": {
      "text/html": [
       "<pre>| ranking_regularization         | Rank-based Regularization Weight                 | 0.25     |</pre>"
      ],
      "text/plain": [
       "| ranking_regularization         | Rank-based Regularization Weight                 | 0.25     |"
      ]
     },
     "metadata": {},
     "output_type": "display_data"
    },
    {
     "data": {
      "text/html": [
       "<pre>| max_iterations                 | Maximum Number of Iterations                     | 25       |</pre>"
      ],
      "text/plain": [
       "| max_iterations                 | Maximum Number of Iterations                     | 25       |"
      ]
     },
     "metadata": {},
     "output_type": "display_data"
    },
    {
     "data": {
      "text/html": [
       "<pre>+--------------------------------+--------------------------------------------------+----------+</pre>"
      ],
      "text/plain": [
       "+--------------------------------+--------------------------------------------------+----------+"
      ]
     },
     "metadata": {},
     "output_type": "display_data"
    },
    {
     "data": {
      "text/html": [
       "<pre>  Optimizing model using SGD; tuning step size.</pre>"
      ],
      "text/plain": [
       "  Optimizing model using SGD; tuning step size."
      ]
     },
     "metadata": {},
     "output_type": "display_data"
    },
    {
     "data": {
      "text/html": [
       "<pre>  Using 143408 / 1147266 points for tuning the step size.</pre>"
      ],
      "text/plain": [
       "  Using 143408 / 1147266 points for tuning the step size."
      ]
     },
     "metadata": {},
     "output_type": "display_data"
    },
    {
     "data": {
      "text/html": [
       "<pre>+---------+-------------------+------------------------------------------+</pre>"
      ],
      "text/plain": [
       "+---------+-------------------+------------------------------------------+"
      ]
     },
     "metadata": {},
     "output_type": "display_data"
    },
    {
     "data": {
      "text/html": [
       "<pre>| Attempt | Initial Step Size | Estimated Objective Value                |</pre>"
      ],
      "text/plain": [
       "| Attempt | Initial Step Size | Estimated Objective Value                |"
      ]
     },
     "metadata": {},
     "output_type": "display_data"
    },
    {
     "data": {
      "text/html": [
       "<pre>+---------+-------------------+------------------------------------------+</pre>"
      ],
      "text/plain": [
       "+---------+-------------------+------------------------------------------+"
      ]
     },
     "metadata": {},
     "output_type": "display_data"
    },
    {
     "data": {
      "text/html": [
       "<pre>| 0       | 25                | Not Viable                               |</pre>"
      ],
      "text/plain": [
       "| 0       | 25                | Not Viable                               |"
      ]
     },
     "metadata": {},
     "output_type": "display_data"
    },
    {
     "data": {
      "text/html": [
       "<pre>| 1       | 6.25              | Not Viable                               |</pre>"
      ],
      "text/plain": [
       "| 1       | 6.25              | Not Viable                               |"
      ]
     },
     "metadata": {},
     "output_type": "display_data"
    },
    {
     "data": {
      "text/html": [
       "<pre>| 2       | 1.5625            | Not Viable                               |</pre>"
      ],
      "text/plain": [
       "| 2       | 1.5625            | Not Viable                               |"
      ]
     },
     "metadata": {},
     "output_type": "display_data"
    },
    {
     "data": {
      "text/html": [
       "<pre>| 3       | 0.390625          | Not Viable                               |</pre>"
      ],
      "text/plain": [
       "| 3       | 0.390625          | Not Viable                               |"
      ]
     },
     "metadata": {},
     "output_type": "display_data"
    },
    {
     "data": {
      "text/html": [
       "<pre>| 4       | 0.0976562         | No Decrease (309.997 >= 29.1203)         |</pre>"
      ],
      "text/plain": [
       "| 4       | 0.0976562         | No Decrease (309.997 >= 29.1203)         |"
      ]
     },
     "metadata": {},
     "output_type": "display_data"
    },
    {
     "data": {
      "text/html": [
       "<pre>| 5       | 0.0244141         | 20.3382                                  |</pre>"
      ],
      "text/plain": [
       "| 5       | 0.0244141         | 20.3382                                  |"
      ]
     },
     "metadata": {},
     "output_type": "display_data"
    },
    {
     "data": {
      "text/html": [
       "<pre>| 6       | 0.012207          | 21.9432                                  |</pre>"
      ],
      "text/plain": [
       "| 6       | 0.012207          | 21.9432                                  |"
      ]
     },
     "metadata": {},
     "output_type": "display_data"
    },
    {
     "data": {
      "text/html": [
       "<pre>| 7       | 0.00610352        | 23.1302                                  |</pre>"
      ],
      "text/plain": [
       "| 7       | 0.00610352        | 23.1302                                  |"
      ]
     },
     "metadata": {},
     "output_type": "display_data"
    },
    {
     "data": {
      "text/html": [
       "<pre>| 8       | 0.00305176        | 24.1576                                  |</pre>"
      ],
      "text/plain": [
       "| 8       | 0.00305176        | 24.1576                                  |"
      ]
     },
     "metadata": {},
     "output_type": "display_data"
    },
    {
     "data": {
      "text/html": [
       "<pre>+---------+-------------------+------------------------------------------+</pre>"
      ],
      "text/plain": [
       "+---------+-------------------+------------------------------------------+"
      ]
     },
     "metadata": {},
     "output_type": "display_data"
    },
    {
     "data": {
      "text/html": [
       "<pre>| Final   | 0.0244141         | 20.3382                                  |</pre>"
      ],
      "text/plain": [
       "| Final   | 0.0244141         | 20.3382                                  |"
      ]
     },
     "metadata": {},
     "output_type": "display_data"
    },
    {
     "data": {
      "text/html": [
       "<pre>+---------+-------------------+------------------------------------------+</pre>"
      ],
      "text/plain": [
       "+---------+-------------------+------------------------------------------+"
      ]
     },
     "metadata": {},
     "output_type": "display_data"
    },
    {
     "data": {
      "text/html": [
       "<pre>Starting Optimization.</pre>"
      ],
      "text/plain": [
       "Starting Optimization."
      ]
     },
     "metadata": {},
     "output_type": "display_data"
    },
    {
     "data": {
      "text/html": [
       "<pre>+---------+--------------+-------------------+-----------------------+-------------+</pre>"
      ],
      "text/plain": [
       "+---------+--------------+-------------------+-----------------------+-------------+"
      ]
     },
     "metadata": {},
     "output_type": "display_data"
    },
    {
     "data": {
      "text/html": [
       "<pre>| Iter.   | Elapsed Time | Approx. Objective | Approx. Training RMSE | Step Size   |</pre>"
      ],
      "text/plain": [
       "| Iter.   | Elapsed Time | Approx. Objective | Approx. Training RMSE | Step Size   |"
      ]
     },
     "metadata": {},
     "output_type": "display_data"
    },
    {
     "data": {
      "text/html": [
       "<pre>+---------+--------------+-------------------+-----------------------+-------------+</pre>"
      ],
      "text/plain": [
       "+---------+--------------+-------------------+-----------------------+-------------+"
      ]
     },
     "metadata": {},
     "output_type": "display_data"
    },
    {
     "data": {
      "text/html": [
       "<pre>| Initial | 96us         | 29.1239           | 3.85429               |             |</pre>"
      ],
      "text/plain": [
       "| Initial | 96us         | 29.1239           | 3.85429               |             |"
      ]
     },
     "metadata": {},
     "output_type": "display_data"
    },
    {
     "data": {
      "text/html": [
       "<pre>+---------+--------------+-------------------+-----------------------+-------------+</pre>"
      ],
      "text/plain": [
       "+---------+--------------+-------------------+-----------------------+-------------+"
      ]
     },
     "metadata": {},
     "output_type": "display_data"
    },
    {
     "data": {
      "text/html": [
       "<pre>| 1       | 5.01s        | 23.7881           | 3.67706               | 0.0244141   |</pre>"
      ],
      "text/plain": [
       "| 1       | 5.01s        | 23.7881           | 3.67706               | 0.0244141   |"
      ]
     },
     "metadata": {},
     "output_type": "display_data"
    },
    {
     "data": {
      "text/html": [
       "<pre>| 2       | 10.09s       | 22.5046           | 3.58535               | 0.0145167   |</pre>"
      ],
      "text/plain": [
       "| 2       | 10.09s       | 22.5046           | 3.58535               | 0.0145167   |"
      ]
     },
     "metadata": {},
     "output_type": "display_data"
    },
    {
     "data": {
      "text/html": [
       "<pre>| 3       | 15.29s       | 21.6285           | 3.50535               | 0.0107102   |</pre>"
      ],
      "text/plain": [
       "| 3       | 15.29s       | 21.6285           | 3.50535               | 0.0107102   |"
      ]
     },
     "metadata": {},
     "output_type": "display_data"
    },
    {
     "data": {
      "text/html": [
       "<pre>| 4       | 20.30s       | 20.1995           | 3.3401                | 0.00863167  |</pre>"
      ],
      "text/plain": [
       "| 4       | 20.30s       | 20.1995           | 3.3401                | 0.00863167  |"
      ]
     },
     "metadata": {},
     "output_type": "display_data"
    },
    {
     "data": {
      "text/html": [
       "<pre>| 5       | 25.39s       | 18.6167           | 3.14168               | 0.00730151  |</pre>"
      ],
      "text/plain": [
       "| 5       | 25.39s       | 18.6167           | 3.14168               | 0.00730151  |"
      ]
     },
     "metadata": {},
     "output_type": "display_data"
    },
    {
     "data": {
      "text/html": [
       "<pre>| 7       | 35.50s       | 15.528            | 2.73197               | 0.00567305  |</pre>"
      ],
      "text/plain": [
       "| 7       | 35.50s       | 15.528            | 2.73197               | 0.00567305  |"
      ]
     },
     "metadata": {},
     "output_type": "display_data"
    },
    {
     "data": {
      "text/html": [
       "<pre>| 8       | 40.59s       | 14.3151           | 2.56165               | 0.00513242  |</pre>"
      ],
      "text/plain": [
       "| 8       | 40.59s       | 14.3151           | 2.56165               | 0.00513242  |"
      ]
     },
     "metadata": {},
     "output_type": "display_data"
    },
    {
     "data": {
      "text/html": [
       "<pre>| 9       | 45.60s       | 13.2978           | 2.4139                | 0.00469849  |</pre>"
      ],
      "text/plain": [
       "| 9       | 45.60s       | 13.2978           | 2.4139                | 0.00469849  |"
      ]
     },
     "metadata": {},
     "output_type": "display_data"
    },
    {
     "data": {
      "text/html": [
       "<pre>| 10      | 50.70s       | 12.4639           | 2.28885               | 0.0043415   |</pre>"
      ],
      "text/plain": [
       "| 10      | 50.70s       | 12.4639           | 2.28885               | 0.0043415   |"
      ]
     },
     "metadata": {},
     "output_type": "display_data"
    },
    {
     "data": {
      "text/html": [
       "<pre>| 11      | 55.80s       | 11.7301           | 2.17598               | 0.00404199  |</pre>"
      ],
      "text/plain": [
       "| 11      | 55.80s       | 11.7301           | 2.17598               | 0.00404199  |"
      ]
     },
     "metadata": {},
     "output_type": "display_data"
    },
    {
     "data": {
      "text/html": [
       "<pre>| 12      | 1m 0s        | 11.1361           | 2.08232               | 0.00378664  |</pre>"
      ],
      "text/plain": [
       "| 12      | 1m 0s        | 11.1361           | 2.08232               | 0.00378664  |"
      ]
     },
     "metadata": {},
     "output_type": "display_data"
    },
    {
     "data": {
      "text/html": [
       "<pre>| 13      | 1m 5s        | 10.6084           | 1.99697               | 0.00356601  |</pre>"
      ],
      "text/plain": [
       "| 13      | 1m 5s        | 10.6084           | 1.99697               | 0.00356601  |"
      ]
     },
     "metadata": {},
     "output_type": "display_data"
    },
    {
     "data": {
      "text/html": [
       "<pre>| 14      | 1m 10s       | 10.1554           | 1.92455               | 0.00337322  |</pre>"
      ],
      "text/plain": [
       "| 14      | 1m 10s       | 10.1554           | 1.92455               | 0.00337322  |"
      ]
     },
     "metadata": {},
     "output_type": "display_data"
    },
    {
     "data": {
      "text/html": [
       "<pre>| 15      | 1m 15s       | 9.7537            | 1.85958               | 0.00320311  |</pre>"
      ],
      "text/plain": [
       "| 15      | 1m 15s       | 9.7537            | 1.85958               | 0.00320311  |"
      ]
     },
     "metadata": {},
     "output_type": "display_data"
    },
    {
     "data": {
      "text/html": [
       "<pre>| 16      | 1m 20s       | 9.4091            | 1.80224               | 0.00305176  |</pre>"
      ],
      "text/plain": [
       "| 16      | 1m 20s       | 9.4091            | 1.80224               | 0.00305176  |"
      ]
     },
     "metadata": {},
     "output_type": "display_data"
    },
    {
     "data": {
      "text/html": [
       "<pre>| 17      | 1m 25s       | 9.10643           | 1.75059               | 0.00291611  |</pre>"
      ],
      "text/plain": [
       "| 17      | 1m 25s       | 9.10643           | 1.75059               | 0.00291611  |"
      ]
     },
     "metadata": {},
     "output_type": "display_data"
    },
    {
     "data": {
      "text/html": [
       "<pre>| 18      | 1m 30s       | 8.83155           | 1.70393               | 0.00279374  |</pre>"
      ],
      "text/plain": [
       "| 18      | 1m 30s       | 8.83155           | 1.70393               | 0.00279374  |"
      ]
     },
     "metadata": {},
     "output_type": "display_data"
    },
    {
     "data": {
      "text/html": [
       "<pre>| 19      | 1m 35s       | 8.58241           | 1.66146               | 0.00268272  |</pre>"
      ],
      "text/plain": [
       "| 19      | 1m 35s       | 8.58241           | 1.66146               | 0.00268272  |"
      ]
     },
     "metadata": {},
     "output_type": "display_data"
    },
    {
     "data": {
      "text/html": [
       "<pre>| 20      | 1m 40s       | 8.3527            | 1.62341               | 0.00258147  |</pre>"
      ],
      "text/plain": [
       "| 20      | 1m 40s       | 8.3527            | 1.62341               | 0.00258147  |"
      ]
     },
     "metadata": {},
     "output_type": "display_data"
    },
    {
     "data": {
      "text/html": [
       "<pre>| 21      | 1m 45s       | 8.15041           | 1.58754               | 0.00248872  |</pre>"
      ],
      "text/plain": [
       "| 21      | 1m 45s       | 8.15041           | 1.58754               | 0.00248872  |"
      ]
     },
     "metadata": {},
     "output_type": "display_data"
    },
    {
     "data": {
      "text/html": [
       "<pre>| 22      | 1m 50s       | 7.95249           | 1.55292               | 0.00240338  |</pre>"
      ],
      "text/plain": [
       "| 22      | 1m 50s       | 7.95249           | 1.55292               | 0.00240338  |"
      ]
     },
     "metadata": {},
     "output_type": "display_data"
    },
    {
     "data": {
      "text/html": [
       "<pre>| 23      | 1m 55s       | 7.78567           | 1.52373               | 0.00232458  |</pre>"
      ],
      "text/plain": [
       "| 23      | 1m 55s       | 7.78567           | 1.52373               | 0.00232458  |"
      ]
     },
     "metadata": {},
     "output_type": "display_data"
    },
    {
     "data": {
      "text/html": [
       "<pre>| 24      | 2m 0s        | 7.6294            | 1.49638               | 0.00225155  |</pre>"
      ],
      "text/plain": [
       "| 24      | 2m 0s        | 7.6294            | 1.49638               | 0.00225155  |"
      ]
     },
     "metadata": {},
     "output_type": "display_data"
    },
    {
     "data": {
      "text/html": [
       "<pre>| 25      | 2m 5s        | 7.47958           | 1.46878               | 0.00218366  |</pre>"
      ],
      "text/plain": [
       "| 25      | 2m 5s        | 7.47958           | 1.46878               | 0.00218366  |"
      ]
     },
     "metadata": {},
     "output_type": "display_data"
    },
    {
     "data": {
      "text/html": [
       "<pre>+---------+--------------+-------------------+-----------------------+-------------+</pre>"
      ],
      "text/plain": [
       "+---------+--------------+-------------------+-----------------------+-------------+"
      ]
     },
     "metadata": {},
     "output_type": "display_data"
    },
    {
     "data": {
      "text/html": [
       "<pre>Optimization Complete: Maximum number of passes through the data reached.</pre>"
      ],
      "text/plain": [
       "Optimization Complete: Maximum number of passes through the data reached."
      ]
     },
     "metadata": {},
     "output_type": "display_data"
    },
    {
     "data": {
      "text/html": [
       "<pre>Computing final objective value and training RMSE.</pre>"
      ],
      "text/plain": [
       "Computing final objective value and training RMSE."
      ]
     },
     "metadata": {},
     "output_type": "display_data"
    },
    {
     "data": {
      "text/html": [
       "<pre>       Final objective value: 7.22021</pre>"
      ],
      "text/plain": [
       "       Final objective value: 7.22021"
      ]
     },
     "metadata": {},
     "output_type": "display_data"
    },
    {
     "data": {
      "text/html": [
       "<pre>       Final training RMSE: 1.38612</pre>"
      ],
      "text/plain": [
       "       Final training RMSE: 1.38612"
      ]
     },
     "metadata": {},
     "output_type": "display_data"
    }
   ],
   "source": [
    "\n",
    "# build the recommender\n",
    "#model = tc.recommender.create(training_data, 'User-ID', 'ISBN', target = 'Book-Rating')\n",
    "model = tc.recommender.create(observation_data=training_data, user_id = 'User-ID', item_id='ISBN', target = 'Book-Rating' )"
   ]
  },
  {
   "cell_type": "markdown",
   "metadata": {},
   "source": [
    "## **Evaluate Results**"
   ]
  },
  {
   "cell_type": "code",
   "execution_count": 10,
   "metadata": {},
   "outputs": [],
   "source": [
    "\n",
    "# grab the results of the model (careful this takes a while)\n",
    "# results = model.recommend();\n",
    "# results"
   ]
  },
  {
   "cell_type": "code",
   "execution_count": 11,
   "metadata": {},
   "outputs": [
    {
     "name": "stdout",
     "output_type": "stream",
     "text": [
      "\n",
      "Precision and recall summary statistics by cutoff\n",
      "+--------+-----------------------+-----------------------+\n",
      "| cutoff |     mean_precision    |      mean_recall      |\n",
      "+--------+-----------------------+-----------------------+\n",
      "|   1    |          0.0          |          0.0          |\n",
      "|   2    |          0.0          |          0.0          |\n",
      "|   3    |          0.0          |          0.0          |\n",
      "|   4    |          0.0          |          0.0          |\n",
      "|   5    | 0.0004889975550122248 |  9.77995110024451e-05 |\n",
      "|   6    | 0.0004074979625101878 |  9.77995110024451e-05 |\n",
      "|   7    | 0.0003492839678658751 |  9.77995110024451e-05 |\n",
      "|   8    | 0.0003056234718826404 |  9.77995110024451e-05 |\n",
      "|   9    | 0.0008149959250203748 | 0.0027465362673186624 |\n",
      "|   10   | 0.0009779951100244496 |  0.005191524042379783 |\n",
      "+--------+-----------------------+-----------------------+\n",
      "[10 rows x 3 columns]\n",
      "\n",
      "\n",
      "Overall RMSE: 5.8487388102239635\n",
      "\n",
      "Per User RMSE (best)\n",
      "+---------+----------------------+-------+\n",
      "| User-ID |         rmse         | count |\n",
      "+---------+----------------------+-------+\n",
      "|  103122 | 0.008609652975191118 |   1   |\n",
      "+---------+----------------------+-------+\n",
      "[1 rows x 3 columns]\n",
      "\n",
      "\n",
      "Per User RMSE (worst)\n",
      "+---------+--------------------+-------+\n",
      "| User-ID |        rmse        | count |\n",
      "+---------+--------------------+-------+\n",
      "|  132836 | 11.410414834830421 |   34  |\n",
      "+---------+--------------------+-------+\n",
      "[1 rows x 3 columns]\n",
      "\n",
      "\n",
      "Per Item RMSE (best)\n",
      "+------------+----------------------+-------+\n",
      "|    ISBN    |         rmse         | count |\n",
      "+------------+----------------------+-------+\n",
      "| 0451407806 | 0.004263665983070375 |   1   |\n",
      "+------------+----------------------+-------+\n",
      "[1 rows x 3 columns]\n",
      "\n",
      "\n",
      "Per Item RMSE (worst)\n",
      "+------------+-------------------+-------+\n",
      "|    ISBN    |        rmse       | count |\n",
      "+------------+-------------------+-------+\n",
      "| 0312926294 | 23.19015090866984 |   1   |\n",
      "+------------+-------------------+-------+\n",
      "[1 rows x 3 columns]\n",
      "\n"
     ]
    },
    {
     "data": {
      "text/plain": [
       "{'precision_recall_by_user': Columns:\n",
       " \tUser-ID\tint\n",
       " \tcutoff\tint\n",
       " \tprecision\tfloat\n",
       " \trecall\tfloat\n",
       " \tcount\tint\n",
       " \n",
       " Rows: 7362\n",
       " \n",
       " Data:\n",
       " +---------+--------+-----------+--------+-------+\n",
       " | User-ID | cutoff | precision | recall | count |\n",
       " +---------+--------+-----------+--------+-------+\n",
       " |    9    |   1    |    0.0    |  0.0   |   1   |\n",
       " |    9    |   2    |    0.0    |  0.0   |   1   |\n",
       " |    9    |   3    |    0.0    |  0.0   |   1   |\n",
       " |    9    |   4    |    0.0    |  0.0   |   1   |\n",
       " |    9    |   5    |    0.0    |  0.0   |   1   |\n",
       " |    9    |   6    |    0.0    |  0.0   |   1   |\n",
       " |    9    |   7    |    0.0    |  0.0   |   1   |\n",
       " |    9    |   8    |    0.0    |  0.0   |   1   |\n",
       " |    9    |   9    |    0.0    |  0.0   |   1   |\n",
       " |    9    |   10   |    0.0    |  0.0   |   1   |\n",
       " +---------+--------+-----------+--------+-------+\n",
       " [7362 rows x 5 columns]\n",
       " Note: Only the head of the SFrame is printed.\n",
       " You can use print_rows(num_rows=m, num_columns=n) to print more rows and columns.,\n",
       " 'precision_recall_overall': Columns:\n",
       " \tcutoff\tint\n",
       " \tprecision\tfloat\n",
       " \trecall\tfloat\n",
       " \n",
       " Rows: 18\n",
       " \n",
       " Data:\n",
       " +--------+------------------------+-----------------------+\n",
       " | cutoff |       precision        |         recall        |\n",
       " +--------+------------------------+-----------------------+\n",
       " |   1    |          0.0           |          0.0          |\n",
       " |   2    |          0.0           |          0.0          |\n",
       " |   3    |          0.0           |          0.0          |\n",
       " |   4    |          0.0           |          0.0          |\n",
       " |   5    | 0.0004889975550122248  | 9.779951100244514e-05 |\n",
       " |   6    | 0.00040749796251018797 | 9.779951100244514e-05 |\n",
       " |   7    | 0.0003492839678658752  | 9.779951100244514e-05 |\n",
       " |   8    | 0.0003056234718826404  | 9.779951100244514e-05 |\n",
       " |   9    |  0.000814995925020375  |  0.002746536267318668 |\n",
       " |   10   | 0.0009779951100244496  |  0.005191524042379787 |\n",
       " +--------+------------------------+-----------------------+\n",
       " [18 rows x 3 columns]\n",
       " Note: Only the head of the SFrame is printed.\n",
       " You can use print_rows(num_rows=m, num_columns=n) to print more rows and columns.,\n",
       " 'rmse_by_user': Columns:\n",
       " \tUser-ID\tint\n",
       " \trmse\tfloat\n",
       " \tcount\tint\n",
       " \n",
       " Rows: 409\n",
       " \n",
       " Data:\n",
       " +---------+--------------------+-------+\n",
       " | User-ID |        rmse        | count |\n",
       " +---------+--------------------+-------+\n",
       " |  103094 | 4.631744645991911  |   1   |\n",
       " |  31550  | 1.686590426126112  |   1   |\n",
       " |  140661 | 2.6611461588084593 |   1   |\n",
       " |  85554  | 3.5689866164204367 |   5   |\n",
       " |  206710 | 0.7441065912037983 |   1   |\n",
       " |  132836 | 11.410414834830421 |   34  |\n",
       " |  250359 | 3.793221401726589  |   36  |\n",
       " |  236283 | 7.639623470686422  |  267  |\n",
       " |  40052  | 5.210577048431081  |   3   |\n",
       " |  169462 | 1.0729763577789173 |   1   |\n",
       " +---------+--------------------+-------+\n",
       " [409 rows x 3 columns]\n",
       " Note: Only the head of the SFrame is printed.\n",
       " You can use print_rows(num_rows=m, num_columns=n) to print more rows and columns.,\n",
       " 'rmse_by_item': Columns:\n",
       " \tISBN\tstr\n",
       " \trmse\tfloat\n",
       " \tcount\tint\n",
       " \n",
       " Rows: 2418\n",
       " \n",
       " Data:\n",
       " +------------+---------------------+-------+\n",
       " |    ISBN    |         rmse        | count |\n",
       " +------------+---------------------+-------+\n",
       " | 0515113719 |  2.6133675645202503 |   1   |\n",
       " | 0380711524 |  2.039848453840624  |   1   |\n",
       " | 0373225342 |  11.270531557044396 |   1   |\n",
       " | 0312926294 |  23.19015090866984  |   1   |\n",
       " | 0373169779 |  4.260307348808657  |   1   |\n",
       " | 0310239621 |  5.8921989272445545 |   1   |\n",
       " | 0451205707 | 0.49163920386732674 |   1   |\n",
       " | 0425135721 |   4.82584141985475  |   1   |\n",
       " | 0141305959 |  15.987264893493066 |   1   |\n",
       " | 0670878847 |  3.6693601678222523 |   1   |\n",
       " +------------+---------------------+-------+\n",
       " [2418 rows x 3 columns]\n",
       " Note: Only the head of the SFrame is printed.\n",
       " You can use print_rows(num_rows=m, num_columns=n) to print more rows and columns.,\n",
       " 'rmse_overall': 5.8487388102239635}"
      ]
     },
     "execution_count": 11,
     "metadata": {},
     "output_type": "execute_result"
    }
   ],
   "source": [
    "# evaluate the validation data\n",
    "model.evaluate(validation_data)"
   ]
  }
 ],
 "metadata": {
  "kernelspec": {
   "display_name": "Python 3",
   "language": "python",
   "name": "python3"
  },
  "language_info": {
   "codemirror_mode": {
    "name": "ipython",
    "version": 3
   },
   "file_extension": ".py",
   "mimetype": "text/x-python",
   "name": "python",
   "nbconvert_exporter": "python",
   "pygments_lexer": "ipython3",
   "version": "3.6.5"
  }
 },
 "nbformat": 4,
 "nbformat_minor": 2
}
